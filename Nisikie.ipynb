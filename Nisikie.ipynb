{
  "cells": [
    {
      "cell_type": "code",
      "execution_count": 1,
      "metadata": {
        "id": "6IYWUMwQMH3e"
      },
      "outputs": [],
      "source": [
        "import pandas as pd\n",
        "import numpy as np\n",
        "import hashlib\n",
        "import seaborn as sb\n",
        "import matplotlib.pyplot as plt\n",
        "\n",
        "# libraries for the files in google drive\n",
        "from pydrive.auth import GoogleAuth\n",
        "from google.colab import drive\n",
        "from pydrive.drive import GoogleDrive\n",
        "from google.colab import auth\n",
        "from oauth2client.client import GoogleCredentials\n",
        "\n",
        "auth.authenticate_user()\n",
        "gauth = GoogleAuth()\n",
        "gauth.credentials = GoogleCredentials.get_application_default()\n",
        "drive = GoogleDrive(gauth)\n",
        "\n",
        "\n",
        "\n"
      ]
    },
    {
      "cell_type": "code",
      "execution_count": 2,
      "metadata": {
        "colab": {
          "base_uri": "https://localhost:8080/",
          "height": 386
        },
        "id": "z_dRTp2lvUB7",
        "outputId": "6b92e9f0-2ef9-4ef7-bf4a-438da8798b21"
      },
      "outputs": [
        {
          "output_type": "execute_result",
          "data": {
            "text/plain": [
              "   GENDER ZIMBABWEAN MARITAL_STATUS   AGE OCCUPATION CHILDREN  \\\n",
              "0  Female        Yes    Not married  21.0    Student       No   \n",
              "1    Male        Yes        Married  31.0  Employeed      Yes   \n",
              "2    Male        Yes    Not married  16.0    Student       No   \n",
              "3    Male        Yes    Not married  22.0    Student       No   \n",
              "4  Female        Yes    Not married  18.0    Student       No   \n",
              "\n",
              "          EDU_LEVEL  HOUSEHOLD_SIZE  2_WEEK_SAD NO_CARE  ... BE_ALONE  \\\n",
              "0  University Level             4.0         Yes      No  ...      NaN   \n",
              "1  University Level             5.0         Yes     Yes  ...      Yes   \n",
              "2    Ordinary Level             4.0          No      No  ...       No   \n",
              "3  University Level             4.0         Yes     Yes  ...      Yes   \n",
              "4     Advance Level             5.0         Yes     Yes  ...      Yes   \n",
              "\n",
              "  FAILURE_FEELING DEPRESSED DEPRESSION_TREATMENT FAMILY_DEPRESSED  \\\n",
              "0             NaN        No                   No              NaN   \n",
              "1             NaN        No                   No               No   \n",
              "2             NaN        No                   No               No   \n",
              "3             NaN        No                   No               No   \n",
              "4             NaN        No                   No               No   \n",
              "\n",
              "  BORROW_MONEY SAVINGS ENJOY_JOB SALARY_SUSTAIN DEBT  \n",
              "0           No     Yes       Yes             No   No  \n",
              "1          Yes      No        No             No  Yes  \n",
              "2           No     Yes        No             No   No  \n",
              "3           No      No       Yes             No   No  \n",
              "4           No      No       NaN             No   No  \n",
              "\n",
              "[5 rows x 28 columns]"
            ],
            "text/html": [
              "\n",
              "  <div id=\"df-8f465b29-5061-47d2-a4f7-650808862869\">\n",
              "    <div class=\"colab-df-container\">\n",
              "      <div>\n",
              "<style scoped>\n",
              "    .dataframe tbody tr th:only-of-type {\n",
              "        vertical-align: middle;\n",
              "    }\n",
              "\n",
              "    .dataframe tbody tr th {\n",
              "        vertical-align: top;\n",
              "    }\n",
              "\n",
              "    .dataframe thead th {\n",
              "        text-align: right;\n",
              "    }\n",
              "</style>\n",
              "<table border=\"1\" class=\"dataframe\">\n",
              "  <thead>\n",
              "    <tr style=\"text-align: right;\">\n",
              "      <th></th>\n",
              "      <th>GENDER</th>\n",
              "      <th>ZIMBABWEAN</th>\n",
              "      <th>MARITAL_STATUS</th>\n",
              "      <th>AGE</th>\n",
              "      <th>OCCUPATION</th>\n",
              "      <th>CHILDREN</th>\n",
              "      <th>EDU_LEVEL</th>\n",
              "      <th>HOUSEHOLD_SIZE</th>\n",
              "      <th>2_WEEK_SAD</th>\n",
              "      <th>NO_CARE</th>\n",
              "      <th>...</th>\n",
              "      <th>BE_ALONE</th>\n",
              "      <th>FAILURE_FEELING</th>\n",
              "      <th>DEPRESSED</th>\n",
              "      <th>DEPRESSION_TREATMENT</th>\n",
              "      <th>FAMILY_DEPRESSED</th>\n",
              "      <th>BORROW_MONEY</th>\n",
              "      <th>SAVINGS</th>\n",
              "      <th>ENJOY_JOB</th>\n",
              "      <th>SALARY_SUSTAIN</th>\n",
              "      <th>DEBT</th>\n",
              "    </tr>\n",
              "  </thead>\n",
              "  <tbody>\n",
              "    <tr>\n",
              "      <th>0</th>\n",
              "      <td>Female</td>\n",
              "      <td>Yes</td>\n",
              "      <td>Not married</td>\n",
              "      <td>21.0</td>\n",
              "      <td>Student</td>\n",
              "      <td>No</td>\n",
              "      <td>University Level</td>\n",
              "      <td>4.0</td>\n",
              "      <td>Yes</td>\n",
              "      <td>No</td>\n",
              "      <td>...</td>\n",
              "      <td>NaN</td>\n",
              "      <td>NaN</td>\n",
              "      <td>No</td>\n",
              "      <td>No</td>\n",
              "      <td>NaN</td>\n",
              "      <td>No</td>\n",
              "      <td>Yes</td>\n",
              "      <td>Yes</td>\n",
              "      <td>No</td>\n",
              "      <td>No</td>\n",
              "    </tr>\n",
              "    <tr>\n",
              "      <th>1</th>\n",
              "      <td>Male</td>\n",
              "      <td>Yes</td>\n",
              "      <td>Married</td>\n",
              "      <td>31.0</td>\n",
              "      <td>Employeed</td>\n",
              "      <td>Yes</td>\n",
              "      <td>University Level</td>\n",
              "      <td>5.0</td>\n",
              "      <td>Yes</td>\n",
              "      <td>Yes</td>\n",
              "      <td>...</td>\n",
              "      <td>Yes</td>\n",
              "      <td>NaN</td>\n",
              "      <td>No</td>\n",
              "      <td>No</td>\n",
              "      <td>No</td>\n",
              "      <td>Yes</td>\n",
              "      <td>No</td>\n",
              "      <td>No</td>\n",
              "      <td>No</td>\n",
              "      <td>Yes</td>\n",
              "    </tr>\n",
              "    <tr>\n",
              "      <th>2</th>\n",
              "      <td>Male</td>\n",
              "      <td>Yes</td>\n",
              "      <td>Not married</td>\n",
              "      <td>16.0</td>\n",
              "      <td>Student</td>\n",
              "      <td>No</td>\n",
              "      <td>Ordinary Level</td>\n",
              "      <td>4.0</td>\n",
              "      <td>No</td>\n",
              "      <td>No</td>\n",
              "      <td>...</td>\n",
              "      <td>No</td>\n",
              "      <td>NaN</td>\n",
              "      <td>No</td>\n",
              "      <td>No</td>\n",
              "      <td>No</td>\n",
              "      <td>No</td>\n",
              "      <td>Yes</td>\n",
              "      <td>No</td>\n",
              "      <td>No</td>\n",
              "      <td>No</td>\n",
              "    </tr>\n",
              "    <tr>\n",
              "      <th>3</th>\n",
              "      <td>Male</td>\n",
              "      <td>Yes</td>\n",
              "      <td>Not married</td>\n",
              "      <td>22.0</td>\n",
              "      <td>Student</td>\n",
              "      <td>No</td>\n",
              "      <td>University Level</td>\n",
              "      <td>4.0</td>\n",
              "      <td>Yes</td>\n",
              "      <td>Yes</td>\n",
              "      <td>...</td>\n",
              "      <td>Yes</td>\n",
              "      <td>NaN</td>\n",
              "      <td>No</td>\n",
              "      <td>No</td>\n",
              "      <td>No</td>\n",
              "      <td>No</td>\n",
              "      <td>No</td>\n",
              "      <td>Yes</td>\n",
              "      <td>No</td>\n",
              "      <td>No</td>\n",
              "    </tr>\n",
              "    <tr>\n",
              "      <th>4</th>\n",
              "      <td>Female</td>\n",
              "      <td>Yes</td>\n",
              "      <td>Not married</td>\n",
              "      <td>18.0</td>\n",
              "      <td>Student</td>\n",
              "      <td>No</td>\n",
              "      <td>Advance Level</td>\n",
              "      <td>5.0</td>\n",
              "      <td>Yes</td>\n",
              "      <td>Yes</td>\n",
              "      <td>...</td>\n",
              "      <td>Yes</td>\n",
              "      <td>NaN</td>\n",
              "      <td>No</td>\n",
              "      <td>No</td>\n",
              "      <td>No</td>\n",
              "      <td>No</td>\n",
              "      <td>No</td>\n",
              "      <td>NaN</td>\n",
              "      <td>No</td>\n",
              "      <td>No</td>\n",
              "    </tr>\n",
              "  </tbody>\n",
              "</table>\n",
              "<p>5 rows × 28 columns</p>\n",
              "</div>\n",
              "      <button class=\"colab-df-convert\" onclick=\"convertToInteractive('df-8f465b29-5061-47d2-a4f7-650808862869')\"\n",
              "              title=\"Convert this dataframe to an interactive table.\"\n",
              "              style=\"display:none;\">\n",
              "        \n",
              "  <svg xmlns=\"http://www.w3.org/2000/svg\" height=\"24px\"viewBox=\"0 0 24 24\"\n",
              "       width=\"24px\">\n",
              "    <path d=\"M0 0h24v24H0V0z\" fill=\"none\"/>\n",
              "    <path d=\"M18.56 5.44l.94 2.06.94-2.06 2.06-.94-2.06-.94-.94-2.06-.94 2.06-2.06.94zm-11 1L8.5 8.5l.94-2.06 2.06-.94-2.06-.94L8.5 2.5l-.94 2.06-2.06.94zm10 10l.94 2.06.94-2.06 2.06-.94-2.06-.94-.94-2.06-.94 2.06-2.06.94z\"/><path d=\"M17.41 7.96l-1.37-1.37c-.4-.4-.92-.59-1.43-.59-.52 0-1.04.2-1.43.59L10.3 9.45l-7.72 7.72c-.78.78-.78 2.05 0 2.83L4 21.41c.39.39.9.59 1.41.59.51 0 1.02-.2 1.41-.59l7.78-7.78 2.81-2.81c.8-.78.8-2.07 0-2.86zM5.41 20L4 18.59l7.72-7.72 1.47 1.35L5.41 20z\"/>\n",
              "  </svg>\n",
              "      </button>\n",
              "      \n",
              "  <style>\n",
              "    .colab-df-container {\n",
              "      display:flex;\n",
              "      flex-wrap:wrap;\n",
              "      gap: 12px;\n",
              "    }\n",
              "\n",
              "    .colab-df-convert {\n",
              "      background-color: #E8F0FE;\n",
              "      border: none;\n",
              "      border-radius: 50%;\n",
              "      cursor: pointer;\n",
              "      display: none;\n",
              "      fill: #1967D2;\n",
              "      height: 32px;\n",
              "      padding: 0 0 0 0;\n",
              "      width: 32px;\n",
              "    }\n",
              "\n",
              "    .colab-df-convert:hover {\n",
              "      background-color: #E2EBFA;\n",
              "      box-shadow: 0px 1px 2px rgba(60, 64, 67, 0.3), 0px 1px 3px 1px rgba(60, 64, 67, 0.15);\n",
              "      fill: #174EA6;\n",
              "    }\n",
              "\n",
              "    [theme=dark] .colab-df-convert {\n",
              "      background-color: #3B4455;\n",
              "      fill: #D2E3FC;\n",
              "    }\n",
              "\n",
              "    [theme=dark] .colab-df-convert:hover {\n",
              "      background-color: #434B5C;\n",
              "      box-shadow: 0px 1px 3px 1px rgba(0, 0, 0, 0.15);\n",
              "      filter: drop-shadow(0px 1px 2px rgba(0, 0, 0, 0.3));\n",
              "      fill: #FFFFFF;\n",
              "    }\n",
              "  </style>\n",
              "\n",
              "      <script>\n",
              "        const buttonEl =\n",
              "          document.querySelector('#df-8f465b29-5061-47d2-a4f7-650808862869 button.colab-df-convert');\n",
              "        buttonEl.style.display =\n",
              "          google.colab.kernel.accessAllowed ? 'block' : 'none';\n",
              "\n",
              "        async function convertToInteractive(key) {\n",
              "          const element = document.querySelector('#df-8f465b29-5061-47d2-a4f7-650808862869');\n",
              "          const dataTable =\n",
              "            await google.colab.kernel.invokeFunction('convertToInteractive',\n",
              "                                                     [key], {});\n",
              "          if (!dataTable) return;\n",
              "\n",
              "          const docLinkHtml = 'Like what you see? Visit the ' +\n",
              "            '<a target=\"_blank\" href=https://colab.research.google.com/notebooks/data_table.ipynb>data table notebook</a>'\n",
              "            + ' to learn more about interactive tables.';\n",
              "          element.innerHTML = '';\n",
              "          dataTable['output_type'] = 'display_data';\n",
              "          await google.colab.output.renderOutput(dataTable, element);\n",
              "          const docLink = document.createElement('div');\n",
              "          docLink.innerHTML = docLinkHtml;\n",
              "          element.appendChild(docLink);\n",
              "        }\n",
              "      </script>\n",
              "    </div>\n",
              "  </div>\n",
              "  "
            ]
          },
          "metadata": {},
          "execution_count": 2
        }
      ],
      "source": [
        "file_id = '1RDMz-mbAwkVyLKg4gqB3DoAVowYi6VDJ' #<-- You add in here the id from you google drive file, you can find it\n",
        "\n",
        "\n",
        "download = drive.CreateFile({'id': file_id})\n",
        "\n",
        "\n",
        "# Download the file to a local disc\n",
        "download.GetContentFile('depressionTrain.csv')  \n",
        "train = pd.read_csv('depressionTrain.csv') \n",
        "train.head()"
      ]
    },
    {
      "cell_type": "code",
      "source": [
        "file_id = '1mxrhWAffzjBghqmfISz39cgKQxjUhhVP' #<-- You add in here the id from you google drive file, you can find it\n",
        "\n",
        "\n",
        "download = drive.CreateFile({'id': file_id})\n",
        "\n",
        "\n",
        "# Download the file to a local disc\n",
        "download.GetContentFile('depressionTest.csv')  \n",
        "test = pd.read_csv('depressionTest.csv') \n",
        "test.head()"
      ],
      "metadata": {
        "colab": {
          "base_uri": "https://localhost:8080/",
          "height": 386
        },
        "id": "RLqK4DxjUDOT",
        "outputId": "c87905d8-4a9f-4ec2-e078-c3a9a8f5a2a2"
      },
      "execution_count": 3,
      "outputs": [
        {
          "output_type": "execute_result",
          "data": {
            "text/plain": [
              "   GENDER ZIMBABWEAN MARITAL_STATUS   AGE OCCUPATION CHILDREN  \\\n",
              "0  Female        Yes        Married  21.0    Student       No   \n",
              "1    Male        Yes        Married  31.0  Employeed      Yes   \n",
              "2  Female        Yes        Married  16.0    Student       No   \n",
              "3    Male        Yes    Not married  22.0    Student       No   \n",
              "4    Male        Yes    Not married  18.0    Student       No   \n",
              "\n",
              "          EDU_LEVEL  HOUSEHOLD_SIZE  2_WEEK_SAD NO_CARE  ... BE_ALONE  \\\n",
              "0  University Level             4.0         Yes      No  ...      NaN   \n",
              "1  University Level             5.0         Yes     Yes  ...      Yes   \n",
              "2    Ordinary Level             4.0          No      No  ...       No   \n",
              "3  University Level             4.0         Yes     Yes  ...      Yes   \n",
              "4     Advance Level             5.0         Yes     Yes  ...      Yes   \n",
              "\n",
              "  FAILURE_FEELING DEPRESSED DEPRESSION_TREATMENT FAMILY_DEPRESSED  \\\n",
              "0             NaN        No                   No              NaN   \n",
              "1             NaN        No                   No               No   \n",
              "2             NaN        No                   No               No   \n",
              "3             NaN        No                   No               No   \n",
              "4             NaN        No                   No               No   \n",
              "\n",
              "  BORROW_MONEY SAVINGS ENJOY_JOB SALARY_SUSTAIN DEBT  \n",
              "0           No     Yes       Yes             No   No  \n",
              "1          Yes      No        No             No  Yes  \n",
              "2           No     Yes        No             No   No  \n",
              "3           No      No       Yes             No   No  \n",
              "4           No      No       NaN             No   No  \n",
              "\n",
              "[5 rows x 28 columns]"
            ],
            "text/html": [
              "\n",
              "  <div id=\"df-2280e7a2-0f79-4917-a13a-d4574f70443d\">\n",
              "    <div class=\"colab-df-container\">\n",
              "      <div>\n",
              "<style scoped>\n",
              "    .dataframe tbody tr th:only-of-type {\n",
              "        vertical-align: middle;\n",
              "    }\n",
              "\n",
              "    .dataframe tbody tr th {\n",
              "        vertical-align: top;\n",
              "    }\n",
              "\n",
              "    .dataframe thead th {\n",
              "        text-align: right;\n",
              "    }\n",
              "</style>\n",
              "<table border=\"1\" class=\"dataframe\">\n",
              "  <thead>\n",
              "    <tr style=\"text-align: right;\">\n",
              "      <th></th>\n",
              "      <th>GENDER</th>\n",
              "      <th>ZIMBABWEAN</th>\n",
              "      <th>MARITAL_STATUS</th>\n",
              "      <th>AGE</th>\n",
              "      <th>OCCUPATION</th>\n",
              "      <th>CHILDREN</th>\n",
              "      <th>EDU_LEVEL</th>\n",
              "      <th>HOUSEHOLD_SIZE</th>\n",
              "      <th>2_WEEK_SAD</th>\n",
              "      <th>NO_CARE</th>\n",
              "      <th>...</th>\n",
              "      <th>BE_ALONE</th>\n",
              "      <th>FAILURE_FEELING</th>\n",
              "      <th>DEPRESSED</th>\n",
              "      <th>DEPRESSION_TREATMENT</th>\n",
              "      <th>FAMILY_DEPRESSED</th>\n",
              "      <th>BORROW_MONEY</th>\n",
              "      <th>SAVINGS</th>\n",
              "      <th>ENJOY_JOB</th>\n",
              "      <th>SALARY_SUSTAIN</th>\n",
              "      <th>DEBT</th>\n",
              "    </tr>\n",
              "  </thead>\n",
              "  <tbody>\n",
              "    <tr>\n",
              "      <th>0</th>\n",
              "      <td>Female</td>\n",
              "      <td>Yes</td>\n",
              "      <td>Married</td>\n",
              "      <td>21.0</td>\n",
              "      <td>Student</td>\n",
              "      <td>No</td>\n",
              "      <td>University Level</td>\n",
              "      <td>4.0</td>\n",
              "      <td>Yes</td>\n",
              "      <td>No</td>\n",
              "      <td>...</td>\n",
              "      <td>NaN</td>\n",
              "      <td>NaN</td>\n",
              "      <td>No</td>\n",
              "      <td>No</td>\n",
              "      <td>NaN</td>\n",
              "      <td>No</td>\n",
              "      <td>Yes</td>\n",
              "      <td>Yes</td>\n",
              "      <td>No</td>\n",
              "      <td>No</td>\n",
              "    </tr>\n",
              "    <tr>\n",
              "      <th>1</th>\n",
              "      <td>Male</td>\n",
              "      <td>Yes</td>\n",
              "      <td>Married</td>\n",
              "      <td>31.0</td>\n",
              "      <td>Employeed</td>\n",
              "      <td>Yes</td>\n",
              "      <td>University Level</td>\n",
              "      <td>5.0</td>\n",
              "      <td>Yes</td>\n",
              "      <td>Yes</td>\n",
              "      <td>...</td>\n",
              "      <td>Yes</td>\n",
              "      <td>NaN</td>\n",
              "      <td>No</td>\n",
              "      <td>No</td>\n",
              "      <td>No</td>\n",
              "      <td>Yes</td>\n",
              "      <td>No</td>\n",
              "      <td>No</td>\n",
              "      <td>No</td>\n",
              "      <td>Yes</td>\n",
              "    </tr>\n",
              "    <tr>\n",
              "      <th>2</th>\n",
              "      <td>Female</td>\n",
              "      <td>Yes</td>\n",
              "      <td>Married</td>\n",
              "      <td>16.0</td>\n",
              "      <td>Student</td>\n",
              "      <td>No</td>\n",
              "      <td>Ordinary Level</td>\n",
              "      <td>4.0</td>\n",
              "      <td>No</td>\n",
              "      <td>No</td>\n",
              "      <td>...</td>\n",
              "      <td>No</td>\n",
              "      <td>NaN</td>\n",
              "      <td>No</td>\n",
              "      <td>No</td>\n",
              "      <td>No</td>\n",
              "      <td>No</td>\n",
              "      <td>Yes</td>\n",
              "      <td>No</td>\n",
              "      <td>No</td>\n",
              "      <td>No</td>\n",
              "    </tr>\n",
              "    <tr>\n",
              "      <th>3</th>\n",
              "      <td>Male</td>\n",
              "      <td>Yes</td>\n",
              "      <td>Not married</td>\n",
              "      <td>22.0</td>\n",
              "      <td>Student</td>\n",
              "      <td>No</td>\n",
              "      <td>University Level</td>\n",
              "      <td>4.0</td>\n",
              "      <td>Yes</td>\n",
              "      <td>Yes</td>\n",
              "      <td>...</td>\n",
              "      <td>Yes</td>\n",
              "      <td>NaN</td>\n",
              "      <td>No</td>\n",
              "      <td>No</td>\n",
              "      <td>No</td>\n",
              "      <td>No</td>\n",
              "      <td>No</td>\n",
              "      <td>Yes</td>\n",
              "      <td>No</td>\n",
              "      <td>No</td>\n",
              "    </tr>\n",
              "    <tr>\n",
              "      <th>4</th>\n",
              "      <td>Male</td>\n",
              "      <td>Yes</td>\n",
              "      <td>Not married</td>\n",
              "      <td>18.0</td>\n",
              "      <td>Student</td>\n",
              "      <td>No</td>\n",
              "      <td>Advance Level</td>\n",
              "      <td>5.0</td>\n",
              "      <td>Yes</td>\n",
              "      <td>Yes</td>\n",
              "      <td>...</td>\n",
              "      <td>Yes</td>\n",
              "      <td>NaN</td>\n",
              "      <td>No</td>\n",
              "      <td>No</td>\n",
              "      <td>No</td>\n",
              "      <td>No</td>\n",
              "      <td>No</td>\n",
              "      <td>NaN</td>\n",
              "      <td>No</td>\n",
              "      <td>No</td>\n",
              "    </tr>\n",
              "  </tbody>\n",
              "</table>\n",
              "<p>5 rows × 28 columns</p>\n",
              "</div>\n",
              "      <button class=\"colab-df-convert\" onclick=\"convertToInteractive('df-2280e7a2-0f79-4917-a13a-d4574f70443d')\"\n",
              "              title=\"Convert this dataframe to an interactive table.\"\n",
              "              style=\"display:none;\">\n",
              "        \n",
              "  <svg xmlns=\"http://www.w3.org/2000/svg\" height=\"24px\"viewBox=\"0 0 24 24\"\n",
              "       width=\"24px\">\n",
              "    <path d=\"M0 0h24v24H0V0z\" fill=\"none\"/>\n",
              "    <path d=\"M18.56 5.44l.94 2.06.94-2.06 2.06-.94-2.06-.94-.94-2.06-.94 2.06-2.06.94zm-11 1L8.5 8.5l.94-2.06 2.06-.94-2.06-.94L8.5 2.5l-.94 2.06-2.06.94zm10 10l.94 2.06.94-2.06 2.06-.94-2.06-.94-.94-2.06-.94 2.06-2.06.94z\"/><path d=\"M17.41 7.96l-1.37-1.37c-.4-.4-.92-.59-1.43-.59-.52 0-1.04.2-1.43.59L10.3 9.45l-7.72 7.72c-.78.78-.78 2.05 0 2.83L4 21.41c.39.39.9.59 1.41.59.51 0 1.02-.2 1.41-.59l7.78-7.78 2.81-2.81c.8-.78.8-2.07 0-2.86zM5.41 20L4 18.59l7.72-7.72 1.47 1.35L5.41 20z\"/>\n",
              "  </svg>\n",
              "      </button>\n",
              "      \n",
              "  <style>\n",
              "    .colab-df-container {\n",
              "      display:flex;\n",
              "      flex-wrap:wrap;\n",
              "      gap: 12px;\n",
              "    }\n",
              "\n",
              "    .colab-df-convert {\n",
              "      background-color: #E8F0FE;\n",
              "      border: none;\n",
              "      border-radius: 50%;\n",
              "      cursor: pointer;\n",
              "      display: none;\n",
              "      fill: #1967D2;\n",
              "      height: 32px;\n",
              "      padding: 0 0 0 0;\n",
              "      width: 32px;\n",
              "    }\n",
              "\n",
              "    .colab-df-convert:hover {\n",
              "      background-color: #E2EBFA;\n",
              "      box-shadow: 0px 1px 2px rgba(60, 64, 67, 0.3), 0px 1px 3px 1px rgba(60, 64, 67, 0.15);\n",
              "      fill: #174EA6;\n",
              "    }\n",
              "\n",
              "    [theme=dark] .colab-df-convert {\n",
              "      background-color: #3B4455;\n",
              "      fill: #D2E3FC;\n",
              "    }\n",
              "\n",
              "    [theme=dark] .colab-df-convert:hover {\n",
              "      background-color: #434B5C;\n",
              "      box-shadow: 0px 1px 3px 1px rgba(0, 0, 0, 0.15);\n",
              "      filter: drop-shadow(0px 1px 2px rgba(0, 0, 0, 0.3));\n",
              "      fill: #FFFFFF;\n",
              "    }\n",
              "  </style>\n",
              "\n",
              "      <script>\n",
              "        const buttonEl =\n",
              "          document.querySelector('#df-2280e7a2-0f79-4917-a13a-d4574f70443d button.colab-df-convert');\n",
              "        buttonEl.style.display =\n",
              "          google.colab.kernel.accessAllowed ? 'block' : 'none';\n",
              "\n",
              "        async function convertToInteractive(key) {\n",
              "          const element = document.querySelector('#df-2280e7a2-0f79-4917-a13a-d4574f70443d');\n",
              "          const dataTable =\n",
              "            await google.colab.kernel.invokeFunction('convertToInteractive',\n",
              "                                                     [key], {});\n",
              "          if (!dataTable) return;\n",
              "\n",
              "          const docLinkHtml = 'Like what you see? Visit the ' +\n",
              "            '<a target=\"_blank\" href=https://colab.research.google.com/notebooks/data_table.ipynb>data table notebook</a>'\n",
              "            + ' to learn more about interactive tables.';\n",
              "          element.innerHTML = '';\n",
              "          dataTable['output_type'] = 'display_data';\n",
              "          await google.colab.output.renderOutput(dataTable, element);\n",
              "          const docLink = document.createElement('div');\n",
              "          docLink.innerHTML = docLinkHtml;\n",
              "          element.appendChild(docLink);\n",
              "        }\n",
              "      </script>\n",
              "    </div>\n",
              "  </div>\n",
              "  "
            ]
          },
          "metadata": {},
          "execution_count": 3
        }
      ]
    },
    {
      "cell_type": "code",
      "execution_count": 4,
      "metadata": {
        "colab": {
          "base_uri": "https://localhost:8080/"
        },
        "id": "PR2cMtHtMH5e",
        "scrolled": false,
        "outputId": "09b8c438-30c4-411f-c259-37165c76c80a"
      },
      "outputs": [
        {
          "output_type": "stream",
          "name": "stdout",
          "text": [
            "<class 'pandas.core.frame.DataFrame'>\n",
            "RangeIndex: 270 entries, 0 to 269\n",
            "Data columns (total 28 columns):\n",
            " #   Column                Non-Null Count  Dtype  \n",
            "---  ------                --------------  -----  \n",
            " 0   GENDER                221 non-null    object \n",
            " 1   ZIMBABWEAN            223 non-null    object \n",
            " 2   MARITAL_STATUS        223 non-null    object \n",
            " 3   AGE                   270 non-null    float64\n",
            " 4   OCCUPATION            223 non-null    object \n",
            " 5   CHILDREN              223 non-null    object \n",
            " 6   EDU_LEVEL             220 non-null    object \n",
            " 7   HOUSEHOLD_SIZE        218 non-null    float64\n",
            " 8    2_WEEK_SAD           223 non-null    object \n",
            " 9   NO_CARE               223 non-null    object \n",
            " 10  LOST_WEIGHT           223 non-null    object \n",
            " 11  EAT_MORE              223 non-null    object \n",
            " 12  LOST_APPETITE         223 non-null    object \n",
            " 13  TROUBLE _SLEEPING     223 non-null    object \n",
            " 14  TIRED                 173 non-null    object \n",
            " 15  TAKE_DRUGS            223 non-null    object \n",
            " 16  SUICIDE_THOUGHT       217 non-null    object \n",
            " 17  FAILURE_DECISIONS     223 non-null    object \n",
            " 18  BE_ALONE              217 non-null    object \n",
            " 19  FAILURE_FEELING       175 non-null    object \n",
            " 20  DEPRESSED             223 non-null    object \n",
            " 21  DEPRESSION_TREATMENT  223 non-null    object \n",
            " 22  FAMILY_DEPRESSED      217 non-null    object \n",
            " 23  BORROW_MONEY          223 non-null    object \n",
            " 24  SAVINGS               223 non-null    object \n",
            " 25  ENJOY_JOB             206 non-null    object \n",
            " 26  SALARY_SUSTAIN        218 non-null    object \n",
            " 27  DEBT                  218 non-null    object \n",
            "dtypes: float64(2), object(26)\n",
            "memory usage: 59.2+ KB\n"
          ]
        }
      ],
      "source": [
        "#Description of data\n",
        "train.info()\n"
      ]
    },
    {
      "cell_type": "code",
      "execution_count": 5,
      "metadata": {
        "colab": {
          "base_uri": "https://localhost:8080/"
        },
        "id": "VuU6O3bbMH5u",
        "scrolled": true,
        "outputId": "c8f9b3ed-9463-46f6-83ad-eabd2146011c"
      },
      "outputs": [
        {
          "output_type": "execute_result",
          "data": {
            "text/plain": [
              "No     215\n",
              "Yes      8\n",
              "Name: DEPRESSED, dtype: int64"
            ]
          },
          "metadata": {},
          "execution_count": 5
        }
      ],
      "source": [
        "#Frequency Distribution\n",
        "train[ \"DEPRESSED\"].value_counts() \n"
      ]
    },
    {
      "cell_type": "code",
      "execution_count": 6,
      "metadata": {
        "id": "vuNds4ZWMH6G"
      },
      "outputs": [],
      "source": [
        "train_set = train.replace('Yes', 1).replace('No', 0).replace('Not married',0).replace('Married', 1)\n",
        "test_set = test.replace('Yes', 1).replace('No', 0).replace('Not married',0).replace('Married', 1)\n"
      ]
    },
    {
      "cell_type": "code",
      "execution_count": 7,
      "metadata": {
        "colab": {
          "base_uri": "https://localhost:8080/",
          "height": 507
        },
        "id": "J4tFVD7xMH6T",
        "scrolled": false,
        "outputId": "e54c38ac-1320-4885-8662-ccc1175b2be7"
      },
      "outputs": [
        {
          "output_type": "execute_result",
          "data": {
            "text/plain": [
              "<Axes: xlabel='GENDER'>"
            ]
          },
          "metadata": {},
          "execution_count": 7
        },
        {
          "output_type": "display_data",
          "data": {
            "text/plain": [
              "<Figure size 640x480 with 1 Axes>"
            ],
            "image/png": "[encoded data removed]"
          },
          "metadata": {}
        }
      ],
      "source": [
        "#Explore Gender - Depressed  relationship\n",
        "gender_pivot = train_set.pivot_table(index=\"GENDER\",values=\"DEPRESSED\")\n",
        "gender_pivot.plot.bar()"
      ]
    },
    {
      "cell_type": "code",
      "execution_count": 8,
      "metadata": {
        "colab": {
          "base_uri": "https://localhost:8080/",
          "height": 563
        },
        "id": "9myKO4fnMH6v",
        "scrolled": false,
        "outputId": "c2ca421f-dd67-433f-f8a1-c2683507262f"
      },
      "outputs": [
        {
          "output_type": "execute_result",
          "data": {
            "text/plain": [
              "<Axes: xlabel='EDU_LEVEL'>"
            ]
          },
          "metadata": {},
          "execution_count": 8
        },
        {
          "output_type": "display_data",
          "data": {
            "text/plain": [
              "<Figure size 640x480 with 1 Axes>"
            ],
            "image/png": "[encoded data removed]"
          },
          "metadata": {}
        }
      ],
      "source": [
        "#Explore Education - Depression relationship\n",
        "education_pivot = train_set.pivot_table(index=\"EDU_LEVEL\",values=\"DEPRESSED\")\n",
        "education_pivot.plot.bar()"
      ]
    },
    {
      "cell_type": "code",
      "execution_count": 9,
      "metadata": {
        "colab": {
          "base_uri": "https://localhost:8080/",
          "height": 430
        },
        "id": "UOvDLHFlMH7A",
        "outputId": "3b4179a3-a25d-471b-839b-3c8d10751096"
      },
      "outputs": [
        {
          "output_type": "display_data",
          "data": {
            "text/plain": [
              "<Figure size 640x480 with 1 Axes>"
            ],
            "image/png": "[encoded data removed]"
          },
          "metadata": {}
        }
      ],
      "source": [
        "#Explore  numerical Age - Depressed relationship\n",
        "#compare ages of those who are depressed and those who are not\n",
        "depressed = train_set[train_set[\"DEPRESSED\"] == 1]\n",
        "not_depressed     = train_set[train_set[\"DEPRESSED\"] == 0]\n",
        "depressed[\"AGE\"].plot.hist(alpha=0.5,color='blue',bins=50)\n",
        "not_depressed[\"AGE\"].plot.hist(alpha=0.5,color='red',bins=50)\n",
        "plt.legend(['Depressed','Not_depressed'])\n",
        "plt.show()"
      ]
    },
    {
      "cell_type": "code",
      "execution_count": 10,
      "metadata": {
        "colab": {
          "base_uri": "https://localhost:8080/",
          "height": 518
        },
        "id": "8Qp4ubI-MH7N",
        "scrolled": true,
        "outputId": "a3f5b303-9528-4222-ecc7-dd83b7456651"
      },
      "outputs": [
        {
          "output_type": "display_data",
          "data": {
            "text/plain": [
              "<Figure size 640x480 with 1 Axes>"
            ],
            "image/png": "[encoded data removed]"
          },
          "metadata": {}
        }
      ],
      "source": [
        "# convert age to a categorical variable\n",
        "#use pandas.cut() for creating bins\n",
        "cut_points = [-1,0, 5, 12, 18, 35, 60, 100]\n",
        "label_names = [\"Missing\", 'Infant', \"Child\", 'Teenager', \"Young Adult\", 'Adult', 'Senior'] \n",
        "\n",
        "def process_age(df,cut_points,label_names,attribute):\n",
        "    df[attribute] = df[attribute].fillna(-0.5)\n",
        "    df[\"AGE_categories\"] = pd.cut(df[attribute],cut_points,labels=label_names)\n",
        "    return df\n",
        "\n",
        "train_set = process_age(train_set,cut_points,label_names,'AGE')\n",
        "test_set = process_age(test_set,cut_points,label_names,'AGE')\n",
        "\n",
        "age_cat_pivot = train_set.pivot_table(index=\"AGE_categories\",values=\"DEPRESSED\")\n",
        "age_cat_pivot.plot.bar()\n",
        "plt.show()\n"
      ]
    },
    {
      "cell_type": "code",
      "execution_count": 11,
      "metadata": {
        "colab": {
          "base_uri": "https://localhost:8080/"
        },
        "id": "XZvVxF-UMH7n",
        "scrolled": true,
        "outputId": "79fba2d3-daff-4a69-a4f9-e034f285764a"
      },
      "outputs": [
        {
          "output_type": "stream",
          "name": "stderr",
          "text": [
            "<ipython-input-11-2408e7ce3fcc>:2: FutureWarning: The default value of numeric_only in DataFrame.corr is deprecated. In a future version, it will default to False. Select only valid columns or specify the value of numeric_only to silence this warning.\n",
            "  corr_matrix = train_set.corr()\n"
          ]
        },
        {
          "output_type": "execute_result",
          "data": {
            "text/plain": [
              "DEPRESSION_TREATMENT    1.000000\n",
              "DEPRESSED               1.000000\n",
              "SALARY_SUSTAIN          0.194803\n",
              "FAILURE_FEELING         0.170312\n",
              "TROUBLE _SLEEPING       0.142876\n",
              "SUICIDE_THOUGHT         0.141470\n",
              "DEBT                    0.138240\n",
              "TAKE_DRUGS              0.100453\n",
              "EAT_MORE                0.099053\n",
              "LOST_WEIGHT             0.088736\n",
              "FAMILY_DEPRESSED        0.078431\n",
              "BE_ALONE                0.073753\n",
              "TIRED                   0.064593\n",
              " 2_WEEK_SAD             0.058731\n",
              "BORROW_MONEY            0.056810\n",
              "NO_CARE                 0.048763\n",
              "ZIMBABWEAN              0.047994\n",
              "HOUSEHOLD_SIZE          0.044475\n",
              "CHILDREN                0.010816\n",
              "LOST_APPETITE          -0.010187\n",
              "ENJOY_JOB              -0.029588\n",
              "FAILURE_DECISIONS      -0.045317\n",
              "MARITAL_STATUS         -0.060547\n",
              "AGE                    -0.076064\n",
              "SAVINGS                -0.122575\n",
              "Name: DEPRESSED, dtype: float64"
            ]
          },
          "metadata": {},
          "execution_count": 11
        }
      ],
      "source": [
        "#Checking on how much each attribute correlates with depression\n",
        "corr_matrix = train_set.corr()\n",
        "corr_matrix[\"DEPRESSED\"].sort_values(ascending=False)"
      ]
    },
    {
      "cell_type": "code",
      "execution_count": 12,
      "metadata": {
        "id": "lFgkqMwBMH8R"
      },
      "outputs": [],
      "source": [
        "test_sets = test_set.replace('Male', 0).replace('Female', 1).replace('Student', 1).replace('Employeed', 2).replace('Unemployeed', 3).replace('Self-employeed', 4)\n",
        "train_sets = train_set.replace('Male', 0).replace('Female', 1).replace('Student', 1).replace('Employeed', 2).replace('Unemployeed', 3).replace('Self-employeed', 4)"
      ]
    },
    {
      "cell_type": "code",
      "execution_count": 13,
      "metadata": {
        "id": "6S2zDeiYMH8h"
      },
      "outputs": [],
      "source": [
        "train_data =train_sets.fillna(0)\n",
        "test_data = test_sets.fillna(0)\n"
      ]
    },
    {
      "cell_type": "code",
      "execution_count": 16,
      "metadata": {
        "id": "7XRgpsu4MH83",
        "scrolled": false,
        "colab": {
          "base_uri": "https://localhost:8080/"
        },
        "outputId": "867948ec-3327-44eb-a2ff-5098df12a122"
      },
      "outputs": [
        {
          "output_type": "execute_result",
          "data": {
            "text/plain": [
              "(216, 10)"
            ]
          },
          "metadata": {},
          "execution_count": 16
        }
      ],
      "source": [
        "from sklearn.model_selection import train_test_split\n",
        "\n",
        "# columns = ['GENDER', 'SAVINGS', 'DEBT', 'SALARY_SUSTAIN', 'ENJOY_JOB', 'BORROW_MONEY',\n",
        "#            'FAMILY_DEPRESSED', 'MARITAL_STATUS', 'AGE', 'OCCUPATION', 'CHILDREN',\n",
        "#            'HOUSEHOLD_SIZE', 'NO_CARE', 'BE_ALONE', 'FAILURE_FEELING', 'FAMILY_DEPRESSED']\n",
        "columns = ['GENDER', 'MARITAL_STATUS', 'LOST_WEIGHT', ' 2_WEEK_SAD', 'TROUBLE _SLEEPING', 'TAKE_DRUGS', 'SUICIDE_THOUGHT',\n",
        "               'FAILURE_DECISIONS', 'DEBT', 'DEPRESSED']\n",
        "all_X = train_data[columns]\n",
        "all_y = train_data['DEPRESSED']\n",
        "\n",
        "train_X, test_X, train_y, test_y = train_test_split(all_X, all_y, test_size=0.2, random_state=0)\n",
        "train_X.shape\n",
        "\n",
        "\n",
        "\n"
      ]
    },
    {
      "cell_type": "code",
      "execution_count": 17,
      "metadata": {
        "id": "OlJr0RA0MH9F",
        "scrolled": false,
        "colab": {
          "base_uri": "https://localhost:8080/",
          "height": 75
        },
        "outputId": "4ba1cb7f-1335-4257-c9fe-f68b6e7968de"
      },
      "outputs": [
        {
          "output_type": "execute_result",
          "data": {
            "text/plain": [
              "RandomForestClassifier()"
            ],
            "text/html": [
              "<style>#sk-container-id-1 {color: black;background-color: white;}#sk-container-id-1 pre{padding: 0;}#sk-container-id-1 div.sk-toggleable {background-color: white;}#sk-container-id-1 label.sk-toggleable__label {cursor: pointer;display: block;width: 100%;margin-bottom: 0;padding: 0.3em;box-sizing: border-box;text-align: center;}#sk-container-id-1 label.sk-toggleable__label-arrow:before {content: \"▸\";float: left;margin-right: 0.25em;color: #696969;}#sk-container-id-1 label.sk-toggleable__label-arrow:hover:before {color: black;}#sk-container-id-1 div.sk-estimator:hover label.sk-toggleable__label-arrow:before {color: black;}#sk-container-id-1 div.sk-toggleable__content {max-height: 0;max-width: 0;overflow: hidden;text-align: left;background-color: #f0f8ff;}#sk-container-id-1 div.sk-toggleable__content pre {margin: 0.2em;color: black;border-radius: 0.25em;background-color: #f0f8ff;}#sk-container-id-1 input.sk-toggleable__control:checked~div.sk-toggleable__content {max-height: 200px;max-width: 100%;overflow: auto;}#sk-container-id-1 input.sk-toggleable__control:checked~label.sk-toggleable__label-arrow:before {content: \"▾\";}#sk-container-id-1 div.sk-estimator input.sk-toggleable__control:checked~label.sk-toggleable__label {background-color: #d4ebff;}#sk-container-id-1 div.sk-label input.sk-toggleable__control:checked~label.sk-toggleable__label {background-color: #d4ebff;}#sk-container-id-1 input.sk-hidden--visually {border: 0;clip: rect(1px 1px 1px 1px);clip: rect(1px, 1px, 1px, 1px);height: 1px;margin: -1px;overflow: hidden;padding: 0;position: absolute;width: 1px;}#sk-container-id-1 div.sk-estimator {font-family: monospace;background-color: #f0f8ff;border: 1px dotted black;border-radius: 0.25em;box-sizing: border-box;margin-bottom: 0.5em;}#sk-container-id-1 div.sk-estimator:hover {background-color: #d4ebff;}#sk-container-id-1 div.sk-parallel-item::after {content: \"\";width: 100%;border-bottom: 1px solid gray;flex-grow: 1;}#sk-container-id-1 div.sk-label:hover label.sk-toggleable__label {background-color: #d4ebff;}#sk-container-id-1 div.sk-serial::before {content: \"\";position: absolute;border-left: 1px solid gray;box-sizing: border-box;top: 0;bottom: 0;left: 50%;z-index: 0;}#sk-container-id-1 div.sk-serial {display: flex;flex-direction: column;align-items: center;background-color: white;padding-right: 0.2em;padding-left: 0.2em;position: relative;}#sk-container-id-1 div.sk-item {position: relative;z-index: 1;}#sk-container-id-1 div.sk-parallel {display: flex;align-items: stretch;justify-content: center;background-color: white;position: relative;}#sk-container-id-1 div.sk-item::before, #sk-container-id-1 div.sk-parallel-item::before {content: \"\";position: absolute;border-left: 1px solid gray;box-sizing: border-box;top: 0;bottom: 0;left: 50%;z-index: -1;}#sk-container-id-1 div.sk-parallel-item {display: flex;flex-direction: column;z-index: 1;position: relative;background-color: white;}#sk-container-id-1 div.sk-parallel-item:first-child::after {align-self: flex-end;width: 50%;}#sk-container-id-1 div.sk-parallel-item:last-child::after {align-self: flex-start;width: 50%;}#sk-container-id-1 div.sk-parallel-item:only-child::after {width: 0;}#sk-container-id-1 div.sk-dashed-wrapped {border: 1px dashed gray;margin: 0 0.4em 0.5em 0.4em;box-sizing: border-box;padding-bottom: 0.4em;background-color: white;}#sk-container-id-1 div.sk-label label {font-family: monospace;font-weight: bold;display: inline-block;line-height: 1.2em;}#sk-container-id-1 div.sk-label-container {text-align: center;}#sk-container-id-1 div.sk-container {/* jupyter's `normalize.less` sets `[hidden] { display: none; }` but bootstrap.min.css set `[hidden] { display: none !important; }` so we also need the `!important` here to be able to override the default hidden behavior on the sphinx rendered scikit-learn.org. See: https://github.com/scikit-learn/scikit-learn/issues/21755 */display: inline-block !important;position: relative;}#sk-container-id-1 div.sk-text-repr-fallback {display: none;}</style><div id=\"sk-container-id-1\" class=\"sk-top-container\"><div class=\"sk-text-repr-fallback\"><pre>RandomForestClassifier()</pre><b>In a Jupyter environment, please rerun this cell to show the HTML representation or trust the notebook. <br />On GitHub, the HTML representation is unable to render, please try loading this page with nbviewer.org.</b></div><div class=\"sk-container\" hidden><div class=\"sk-item\"><div class=\"sk-estimator sk-toggleable\"><input class=\"sk-toggleable__control sk-hidden--visually\" id=\"sk-estimator-id-1\" type=\"checkbox\" checked><label for=\"sk-estimator-id-1\" class=\"sk-toggleable__label sk-toggleable__label-arrow\">RandomForestClassifier</label><div class=\"sk-toggleable__content\"><pre>RandomForestClassifier()</pre></div></div></div></div></div>"
            ]
          },
          "metadata": {},
          "execution_count": 17
        }
      ],
      "source": [
        "from sklearn.ensemble import RandomForestClassifier\n",
        "\n",
        "# Create the model with 100 trees\n",
        "model = RandomForestClassifier(n_estimators=100, \n",
        "                               bootstrap = True,\n",
        "                               max_features = 'sqrt')\n",
        "# Fit on training data\n",
        "model.fit(train_X, train_y)\n"
      ]
    },
    {
      "cell_type": "code",
      "execution_count": 18,
      "metadata": {
        "id": "0OELEicRMH9X",
        "scrolled": false
      },
      "outputs": [],
      "source": [
        "# #Prediction\n",
        "\n",
        "# accuracy = accuracy_score(test_y, predictions)\n",
        "# accuracy\n",
        "\n",
        "# Actual class predictions\n",
        "# rf_predictions = model.predict(test_y)\n",
        "# # Probabilities for each class\n",
        "# rf_probs = model.predict_proba(test_y)[:, 1]\n",
        "\n",
        "# Actual class predictions\n",
        "rf_predictions = model.predict(test_X)\n",
        "\n",
        "# Probabilities for each class\n",
        "rf_probs = model.predict_proba(test_X)[:, 1]\n",
        "\n"
      ]
    },
    {
      "cell_type": "code",
      "execution_count": 19,
      "metadata": {
        "id": "vqg597eqMH9x",
        "colab": {
          "base_uri": "https://localhost:8080/"
        },
        "outputId": "b6efb071-5361-489d-88ec-7d8121ee4b2a"
      },
      "outputs": [
        {
          "output_type": "stream",
          "name": "stdout",
          "text": [
            "              precision    recall  f1-score   support\n",
            "\n",
            "         0.0       1.00      1.00      1.00        51\n",
            "         1.0       1.00      1.00      1.00         3\n",
            "\n",
            "    accuracy                           1.00        54\n",
            "   macro avg       1.00      1.00      1.00        54\n",
            "weighted avg       1.00      1.00      1.00        54\n",
            "\n"
          ]
        }
      ],
      "source": [
        "from sklearn.metrics import classification_report\n",
        "print(classification_report(test_y, rf_predictions))"
      ]
    },
    {
      "cell_type": "code",
      "execution_count": 20,
      "metadata": {
        "id": "Db5F9yMBMH-S",
        "scrolled": true,
        "colab": {
          "base_uri": "https://localhost:8080/",
          "height": 112
        },
        "outputId": "85b7a91e-f626-433c-e474-0af70e18a1dc"
      },
      "outputs": [
        {
          "output_type": "execute_result",
          "data": {
            "text/plain": [
              "               Depressed  Not_depressed\n",
              "Depressed             51              0\n",
              "Not_depressed          0              3"
            ],
            "text/html": [
              "\n",
              "  <div id=\"df-ba4e917c-4654-4e7f-8f0d-b21f18dca6d4\">\n",
              "    <div class=\"colab-df-container\">\n",
              "      <div>\n",
              "<style scoped>\n",
              "    .dataframe tbody tr th:only-of-type {\n",
              "        vertical-align: middle;\n",
              "    }\n",
              "\n",
              "    .dataframe tbody tr th {\n",
              "        vertical-align: top;\n",
              "    }\n",
              "\n",
              "    .dataframe thead th {\n",
              "        text-align: right;\n",
              "    }\n",
              "</style>\n",
              "<table border=\"1\" class=\"dataframe\">\n",
              "  <thead>\n",
              "    <tr style=\"text-align: right;\">\n",
              "      <th></th>\n",
              "      <th>Depressed</th>\n",
              "      <th>Not_depressed</th>\n",
              "    </tr>\n",
              "  </thead>\n",
              "  <tbody>\n",
              "    <tr>\n",
              "      <th>Depressed</th>\n",
              "      <td>51</td>\n",
              "      <td>0</td>\n",
              "    </tr>\n",
              "    <tr>\n",
              "      <th>Not_depressed</th>\n",
              "      <td>0</td>\n",
              "      <td>3</td>\n",
              "    </tr>\n",
              "  </tbody>\n",
              "</table>\n",
              "</div>\n",
              "      <button class=\"colab-df-convert\" onclick=\"convertToInteractive('df-ba4e917c-4654-4e7f-8f0d-b21f18dca6d4')\"\n",
              "              title=\"Convert this dataframe to an interactive table.\"\n",
              "              style=\"display:none;\">\n",
              "        \n",
              "  <svg xmlns=\"http://www.w3.org/2000/svg\" height=\"24px\"viewBox=\"0 0 24 24\"\n",
              "       width=\"24px\">\n",
              "    <path d=\"M0 0h24v24H0V0z\" fill=\"none\"/>\n",
              "    <path d=\"M18.56 5.44l.94 2.06.94-2.06 2.06-.94-2.06-.94-.94-2.06-.94 2.06-2.06.94zm-11 1L8.5 8.5l.94-2.06 2.06-.94-2.06-.94L8.5 2.5l-.94 2.06-2.06.94zm10 10l.94 2.06.94-2.06 2.06-.94-2.06-.94-.94-2.06-.94 2.06-2.06.94z\"/><path d=\"M17.41 7.96l-1.37-1.37c-.4-.4-.92-.59-1.43-.59-.52 0-1.04.2-1.43.59L10.3 9.45l-7.72 7.72c-.78.78-.78 2.05 0 2.83L4 21.41c.39.39.9.59 1.41.59.51 0 1.02-.2 1.41-.59l7.78-7.78 2.81-2.81c.8-.78.8-2.07 0-2.86zM5.41 20L4 18.59l7.72-7.72 1.47 1.35L5.41 20z\"/>\n",
              "  </svg>\n",
              "      </button>\n",
              "      \n",
              "  <style>\n",
              "    .colab-df-container {\n",
              "      display:flex;\n",
              "      flex-wrap:wrap;\n",
              "      gap: 12px;\n",
              "    }\n",
              "\n",
              "    .colab-df-convert {\n",
              "      background-color: #E8F0FE;\n",
              "      border: none;\n",
              "      border-radius: 50%;\n",
              "      cursor: pointer;\n",
              "      display: none;\n",
              "      fill: #1967D2;\n",
              "      height: 32px;\n",
              "      padding: 0 0 0 0;\n",
              "      width: 32px;\n",
              "    }\n",
              "\n",
              "    .colab-df-convert:hover {\n",
              "      background-color: #E2EBFA;\n",
              "      box-shadow: 0px 1px 2px rgba(60, 64, 67, 0.3), 0px 1px 3px 1px rgba(60, 64, 67, 0.15);\n",
              "      fill: #174EA6;\n",
              "    }\n",
              "\n",
              "    [theme=dark] .colab-df-convert {\n",
              "      background-color: #3B4455;\n",
              "      fill: #D2E3FC;\n",
              "    }\n",
              "\n",
              "    [theme=dark] .colab-df-convert:hover {\n",
              "      background-color: #434B5C;\n",
              "      box-shadow: 0px 1px 3px 1px rgba(0, 0, 0, 0.15);\n",
              "      filter: drop-shadow(0px 1px 2px rgba(0, 0, 0, 0.3));\n",
              "      fill: #FFFFFF;\n",
              "    }\n",
              "  </style>\n",
              "\n",
              "      <script>\n",
              "        const buttonEl =\n",
              "          document.querySelector('#df-ba4e917c-4654-4e7f-8f0d-b21f18dca6d4 button.colab-df-convert');\n",
              "        buttonEl.style.display =\n",
              "          google.colab.kernel.accessAllowed ? 'block' : 'none';\n",
              "\n",
              "        async function convertToInteractive(key) {\n",
              "          const element = document.querySelector('#df-ba4e917c-4654-4e7f-8f0d-b21f18dca6d4');\n",
              "          const dataTable =\n",
              "            await google.colab.kernel.invokeFunction('convertToInteractive',\n",
              "                                                     [key], {});\n",
              "          if (!dataTable) return;\n",
              "\n",
              "          const docLinkHtml = 'Like what you see? Visit the ' +\n",
              "            '<a target=\"_blank\" href=https://colab.research.google.com/notebooks/data_table.ipynb>data table notebook</a>'\n",
              "            + ' to learn more about interactive tables.';\n",
              "          element.innerHTML = '';\n",
              "          dataTable['output_type'] = 'display_data';\n",
              "          await google.colab.output.renderOutput(dataTable, element);\n",
              "          const docLink = document.createElement('div');\n",
              "          docLink.innerHTML = docLinkHtml;\n",
              "          element.appendChild(docLink);\n",
              "        }\n",
              "      </script>\n",
              "    </div>\n",
              "  </div>\n",
              "  "
            ]
          },
          "metadata": {},
          "execution_count": 20
        }
      ],
      "source": [
        "from sklearn.metrics import confusion_matrix\n",
        "conf_matrix = confusion_matrix(test_y, rf_predictions)\n",
        "pd.DataFrame(conf_matrix, columns=['Depressed', 'Not_depressed'], index=[['Depressed', 'Not_depressed']])"
      ]
    },
    {
      "cell_type": "code",
      "execution_count": 21,
      "metadata": {
        "id": "jbRxgMqqMH_0",
        "colab": {
          "base_uri": "https://localhost:8080/"
        },
        "outputId": "bf74cead-e78f-4afc-87ca-d2879e46a07c"
      },
      "outputs": [
        {
          "output_type": "execute_result",
          "data": {
            "text/plain": [
              "['random_forest_model.pkl']"
            ]
          },
          "metadata": {},
          "execution_count": 21
        }
      ],
      "source": [
        "import joblib\n",
        "\n",
        "# Save the model to a file\n",
        "joblib.dump(model, 'random_forest_model.pkl')\n"
      ]
    }
  ],
  "metadata": {
    "colab": {
      "provenance": []
    },
    "kernelspec": {
      "display_name": "Python 3",
      "language": "python",
      "name": "python3"
    },
    "language_info": {
      "codemirror_mode": {
        "name": "ipython",
        "version": 3
      },
      "file_extension": ".py",
      "mimetype": "text/x-python",
      "name": "python",
      "nbconvert_exporter": "python",
      "pygments_lexer": "ipython3",
      "version": "3.7.3"
    }
  },
  "nbformat": 4,
  "nbformat_minor": 0
}